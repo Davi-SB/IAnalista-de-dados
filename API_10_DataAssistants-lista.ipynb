{
 "cells": [
  {
   "cell_type": "code",
   "execution_count": null,
   "id": "0b0a7bea",
   "metadata": {},
   "outputs": [],
   "source": [
    "import openai\n",
    "from dotenv import load_dotenv, find_dotenv\n",
    "\n",
    "load_dotenv(find_dotenv())\n",
    "client = openai.Client()\n"
   ]
  },
  {
   "cell_type": "code",
   "execution_count": null,
   "id": "1473a674",
   "metadata": {},
   "outputs": [],
   "source": [
    "import pandas as pd\n",
    "\n",
    "dataset = pd.read_csv('full_netflix_dataset.csv')\n",
    "dataset.head(3)"
   ]
  },
  {
   "cell_type": "markdown",
   "id": "103ee758",
   "metadata": {},
   "source": [
    "### Cria o arquivo para ser enviado"
   ]
  },
  {
   "cell_type": "code",
   "execution_count": null,
   "id": "4f06f696",
   "metadata": {},
   "outputs": [],
   "source": [
    "file = client.files.create(\n",
    "    file    = open('full_netflix_dataset.csv', 'rb'),\n",
    "    purpose = 'assistants'\n",
    ")\n",
    "print(file)"
   ]
  },
  {
   "attachments": {},
   "cell_type": "markdown",
   "id": "d748127d",
   "metadata": {},
   "source": [
    "### Cria o [assistant](https://platform.openai.com/docs/assistants/overview/agents)\n",
    "- `tool_resources` recebe os ids dos arquivos"
   ]
  },
  {
   "cell_type": "code",
   "execution_count": null,
   "id": "b8385a71",
   "metadata": {},
   "outputs": [],
   "source": [
    "DataAssistant = client.beta.assistants.create(\n",
    "    name = \"Engenheiro de Dados\",\n",
    "    instructions = 'Você é um Engenheiro de Dados que trabalha para a Netflix. Você recebeu o arquivo .CSV full_netflix_dataset.csv com informações importantes sobre o catálogo da Netflix. Sua tarefa é analisar o arquivo e responder as perguntas sobre os dados.',\n",
    "    tools = [{'type': 'code_interpreter'}],\n",
    "    tool_resources = {'code_interpreter': \n",
    "                        {'file_ids': \n",
    "                            [file.id]\n",
    "                        }\n",
    "                     },\n",
    "    model = 'gpt-4o-mini'\n",
    ")"
   ]
  },
  {
   "attachments": {},
   "cell_type": "markdown",
   "id": "2dd2acc5",
   "metadata": {},
   "source": [
    "### Cria e adiciona a mensagem em myThread"
   ]
  },
  {
   "cell_type": "code",
   "execution_count": null,
   "id": "4ba988f8",
   "metadata": {},
   "outputs": [],
   "source": [
    "myThread = client.beta.threads.create()\n",
    "print(myThread, end='\\n\\n')\n",
    "\n",
    "message = client.beta.threads.messages.create( # cria uma mensagem\n",
    "    thread_id = myThread.id, # na thread especificada\n",
    "    role = 'user',\n",
    "    content = 'Liste todos os elementos do catálogo da Netflix com maior nota imdb que estão disponíveis no Brasil e possuem mais de um milhão de votos. Ordene a lista resposta por nota imdb de forma decrescente e mostre qual foi.'\n",
    ")\n",
    "print(message)"
   ]
  },
  {
   "attachments": {},
   "cell_type": "markdown",
   "id": "db10a63b",
   "metadata": {},
   "source": [
    "### Roda a thread no assistant"
   ]
  },
  {
   "cell_type": "code",
   "execution_count": null,
   "id": "ab3e750e",
   "metadata": {},
   "outputs": [],
   "source": [
    "run = client.beta.threads.runs.create(\n",
    "    thread_id    = myThread.id,\n",
    "    assistant_id = DataAssistant.id,\n",
    "    instructions = 'O nome do usuário é Davi Brilhante e ele está pensando em assinar o serviço de streaming da netflix.'\n",
    ")\n",
    "print(run)"
   ]
  },
  {
   "attachments": {},
   "cell_type": "markdown",
   "id": "7b71e5ba",
   "metadata": {},
   "source": [
    "### Aguarda a run terminar\n",
    "- [estados que uma run pode assumir](https://platform.openai.com/docs/assistants/deep-dive/run-lifecycle)"
   ]
  },
  {
   "cell_type": "code",
   "execution_count": null,
   "id": "cc04b39a",
   "metadata": {},
   "outputs": [],
   "source": [
    "while run.status in ['queued', 'in_progress', 'cancelling']:\n",
    "    run = client.beta.threads.runs.retrieve( # recupera os dados da run \n",
    "        thread_id = myThread.id, # na thread especificada\n",
    "        run_id = run.id # especifica qual run recuperar os dados\n",
    "    )\n",
    "    print(run.status)\n"
   ]
  },
  {
   "attachments": {},
   "cell_type": "markdown",
   "id": "f2b0bf80",
   "metadata": {},
   "source": [
    "### Verifica a resposta"
   ]
  },
  {
   "cell_type": "code",
   "execution_count": null,
   "id": "6fa5456c",
   "metadata": {},
   "outputs": [],
   "source": [
    "if run.status == 'completed':\n",
    "    mensagens = client.beta.threads.messages.list(\n",
    "        thread_id = myThread.id\n",
    "    )\n",
    "    print(mensagens)\n",
    "else:\n",
    "    print('Erro:', run.status)"
   ]
  },
  {
   "cell_type": "markdown",
   "id": "45838d51",
   "metadata": {},
   "source": [
    "### Acesso de mensagens\n",
    "\n",
    "<details>\n",
    "  <summary>------- Output Esperado -------</summary>\n",
    "\n",
    "  - Breaking Bad\n",
    "  - The Godfather\n",
    "  - Pulp Fiction\n",
    "  - Forrest Gump\n",
    "  - Stranger Things\n",
    "  - Terminator 2: Judgment Day\n",
    "  - Saving Private Ryan\n",
    "  - Whiplash\n",
    "  - Django Unchained\n",
    "  - Eternal Sunshine of the Spotless Mind\n",
    "  - Shutter Island\n",
    "  - The Walking Dead\n",
    "  - The Hunger Games\n",
    "</details>\n",
    "\n"
   ]
  },
  {
   "cell_type": "code",
   "execution_count": null,
   "id": "3f9d818b",
   "metadata": {},
   "outputs": [],
   "source": [
    "for mensagem in mensagens.data[::-1]:\n",
    "    role    = mensagem.role\n",
    "    content = mensagem.content[0].text.value\n",
    "    print(f'    {role}: {content}', end='\\n\\n')"
   ]
  },
  {
   "attachments": {},
   "cell_type": "markdown",
   "id": "27e24b15",
   "metadata": {},
   "source": [
    "### Analisando os passos do modelo"
   ]
  },
  {
   "cell_type": "code",
   "execution_count": null,
   "id": "b5596864",
   "metadata": {},
   "outputs": [],
   "source": [
    "run_steps = client.beta.threads.runs.steps.list(\n",
    "  thread_id = myThread.id,\n",
    "  run_id = run.id\n",
    ")"
   ]
  },
  {
   "cell_type": "code",
   "execution_count": null,
   "id": "d531d859",
   "metadata": {},
   "outputs": [],
   "source": [
    "for step in run_steps.data[::-1]:\n",
    "    print('\\n=== Step:', step.step_details.type)"
   ]
  },
  {
   "cell_type": "code",
   "execution_count": null,
   "id": "31ed0a3a",
   "metadata": {},
   "outputs": [],
   "source": [
    "for step in run_steps.data[::-1]:\n",
    "    print('\\n=== Step:', step.step_details.type)\n",
    "    \n",
    "    if step.step_details.type == 'tool_calls':\n",
    "            for tool_call in step.step_details.tool_calls:\n",
    "                print('-----')\n",
    "                print(tool_call.code_interpreter.input)\n",
    "                print('-----')\n",
    "                # print('Result')\n",
    "                # print(tool_call.code_interpreter.outputs[0].logs)\n",
    "                \n",
    "    if step.step_details.type == 'message_creation':\n",
    "        message = client.beta.threads.messages.retrieve(\n",
    "            thread_id  = myThread.id,\n",
    "            message_id = step.step_details.message_creation.message_id\n",
    "        )\n",
    "        print(message.content[0].text.value)"
   ]
  }
 ],
 "metadata": {
  "kernelspec": {
   "display_name": "Python 3",
   "language": "python",
   "name": "python3"
  },
  "language_info": {
   "codemirror_mode": {
    "name": "ipython",
    "version": 3
   },
   "file_extension": ".py",
   "mimetype": "text/x-python",
   "name": "python",
   "nbconvert_exporter": "python",
   "pygments_lexer": "ipython3",
   "version": "3.11.9"
  }
 },
 "nbformat": 4,
 "nbformat_minor": 5
}
